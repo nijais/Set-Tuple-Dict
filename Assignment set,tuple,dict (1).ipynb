{
 "cells": [
  {
   "cell_type": "markdown",
   "id": "b710f3df-8643-4249-a3b0-2b313f6ec9b1",
   "metadata": {
    "tags": []
   },
   "source": [
    "# Q1. What are the characteristics of the tuples? Is tuple immutable?\n",
    "#### Tuple is an ordered, immutable and heterogeneous collection of elements. The elements in a tuple can be of different data types.\n",
    "\n",
    "##### immutable: Once a tuple is created, its elements cannot be changed, added or removed, making the tuple an immutable data structure.\n",
    "\n",
    "##### Order: The elements in a tuple have a defined order and that order is maintained throughout the lifetime of the tuple.\n",
    "\n",
    "##### Heterogeneous: The elements in a tuple can be of different data types like integers, strings, etc.\n",
    "\n",
    "##### Indexable: Elements in a tuple can be accessed by their index, just like in a list.\n",
    "\n",
    "##### These characteristics make tuples useful for representing a collection of related values that should not be modified."
   ]
  },
  {
   "cell_type": "code",
   "execution_count": null,
   "id": "a5355038-1aef-46ec-be49-2cb13754be77",
   "metadata": {},
   "outputs": [],
   "source": []
  },
  {
   "cell_type": "markdown",
   "id": "df28fa82-369e-49e3-a2ed-92e9e35ba50e",
   "metadata": {},
   "source": [
    "# Q2. What are the two tuple methods in python? Give an example of each method. Give a reason why tuples have only two in-built methods as compared to Lists.\n",
    "#### Tuples have two built-in methods in Python:\n",
    "\n",
    "#### count() - This method returns the number of occurrences of a specified element in the tuple.\n",
    "#### Example:t = (1, 2, 3, 2, 1)\n",
    "#### print(t.count(2))  # Output: 2\n",
    "\n",
    "#### index() - This method returns the index of the first occurrence of a specified element in the tuple.\n",
    "#### Example: t = (1, 2, 3, 2, 1)\n",
    "#### print(t.index(2))  # Output: 1\n",
    "#### Tuples have only two built-in methods compared to lists because tuples are meant to be simple and lightweight data structures that are used to store and manage small amounts of data. Lists, on the other hand, are more complex data structures that support a wider range of operations, such as insertion, deletion, and sorting of elements. Tuples are designed to be more efficient and faster than lists, and having fewer methods helps to achieve this. The focus is on efficiency and speed, rather than a large number of methods and functions.Tuples are also immutable, so there is no need for methods to modify their elements.\n",
    "\n",
    "#### Tuples are usually used as keys in dictionaries, where the order and immutability of the elements are important, and having fewer methods makes them easier to use and less prone to errors.\n",
    "\n",
    "#### Tuples are intended to represent fixed, unchanging data, while lists are intended to be more dynamic and allow for modifications. The two methods that tuples do have are sufficient for their intended purpose, which is to provide an efficient and lightweight way of representing simple data structures.\n"
   ]
  },
  {
   "cell_type": "code",
   "execution_count": null,
   "id": "e4d6d943-3f7d-432a-a000-3dcd94018815",
   "metadata": {},
   "outputs": [],
   "source": []
  },
  {
   "cell_type": "markdown",
   "id": "7b21b7ea-6f3b-4c32-8d89-ec182ace5993",
   "metadata": {},
   "source": [
    "# Q3. Which collection datatypes in python do not allow duplicate items? Write a code using a set to remove duplicates from the given list. List = [1, 1, 1, 2, 1, 3, 1, 4, 2, 1, 2, 2, 2, 3, 2, 4, 3, 1, 3, 2, 3, 3, 3, 4, 4, 1, 4, 2, 4, 3, 4, 4] \n",
    "\n",
    "#### In Python, the set collection data type does not allow duplicate items.\n",
    "\n",
    "#### Here's a code to remove duplicates from a list using a set: \n",
    "#### List = [1, 1, 1, 2, 1, 3, 1, 4, 2, 1, 2, 2, 2, 3, 2, 4, 3, 1, 3, 2, 3, 3, 3, 4, 4, 1, 4, 2, 4, 3, 4, 4]\n",
    "#### remove_duplicates = set(List)\n",
    "#### print(list(remove_duplicates))\n",
    "#### Output: [1, 2, 3, 4]\n"
   ]
  },
  {
   "cell_type": "code",
   "execution_count": null,
   "id": "85f9b522-4055-48a6-bc92-6c376f3d1f7d",
   "metadata": {},
   "outputs": [],
   "source": []
  },
  {
   "cell_type": "markdown",
   "id": "c40ea0c3-9e05-4c92-a4da-5a345c58b0a0",
   "metadata": {},
   "source": [
    "# Q4. Explain the difference between the union() and update() methods for a set. Give an example of each method.\n",
    "\n",
    "#### In Python, the union() and update() methods are used to combine two sets.\n",
    "\n",
    "#### The difference between these two methods is as follows:\n",
    "\n",
    "#### union(): The union() method returns a new set that contains all elements from both sets. The original sets remain unchanged.\n",
    "#### set_a= {1,2,3,'a','b','c'}\n",
    "#### set_b= {1,4,3,5,'z','c','d'}\n",
    "#### union= set_a.union(set_b)\n",
    "#### print(union)\n",
    "#### output: {1,2,3,4,'c',5,'z','b','d','a'}\n",
    "\n",
    "#### update(): The update() method adds all elements from one set to another. The set that is being updated is modified in place.\n",
    "#### set_a= {1,2,3,'a','b','c'}\n",
    "#### set_b= {1,4,3,5,'z','c','d'}\n",
    "#### union=set_a.update(set_b)\n",
    "#### print(set_a)\n",
    "#### output: {1,2,3,4,'c',5,'z','b','d','a'}\n",
    "\n",
    "#### In conclusion, union() returns a new set that is the union of two sets, while update() modifies an existing set to contain the union of itself and another set.\n"
   ]
  },
  {
   "cell_type": "code",
   "execution_count": null,
   "id": "a8f96662-bde9-4d63-8b84-5417b6b07c86",
   "metadata": {},
   "outputs": [],
   "source": []
  },
  {
   "cell_type": "markdown",
   "id": "e6762756-f5a7-4787-b84e-2e20e175e965",
   "metadata": {},
   "source": [
    "# Q5. What is a dictionary? Give an example. Also, state whether a dictionary is ordered or unordered.\n",
    "\n",
    "#### A dictionary in Python is a collection of key-value pairs, where each key is unique and maps to a corresponding value. Dictionaries are mutable, meaning that you can change the values associated with a given key.\n",
    "\n",
    "#### user_details= {'Name':'Nimish' , 'Age': 28, 'Email_id':'nj1234@gmail.com', 'Gender':'Male' }\n",
    "#### print(user_details['Email_id'])\n",
    "#### output: nj1234@gmail.com\n",
    "\n",
    "#### In this example, the keys 'name', 'age', 'Email_id' and 'Gender' map to the values 'Nimish', 28, and 'nj1234@gmail.com', 'Male', respectively.\n",
    "\n",
    "#### Dictionaries in Python are unordered. This means that the order in which items are added to a dictionary is not necessarily the order in which they will be retrieved. However, dictionaries in Python 3.7 and later have guaranteed insertion order, meaning that the elements will be retrieved in the order in which they were inserted.\n"
   ]
  },
  {
   "cell_type": "code",
   "execution_count": null,
   "id": "d1987fa8-711a-4e5f-b720-fc89c09f889d",
   "metadata": {},
   "outputs": [],
   "source": []
  },
  {
   "cell_type": "markdown",
   "id": "ab022020-4e49-4710-8dbb-21a1070edd87",
   "metadata": {},
   "source": [
    "# Q6. Can we create a nested dictionary? If so, please give an example by creating a simple one-level nested dictionary.\n",
    "\n",
    "#### Yes, you can create a nested dictionary in Python. A nested dictionary is a dictionary within a dictionary. Here's an example of a one-level nested dictionary:\n",
    "#### nested_dict = {'user1':{'Name':'Nimish' , 'Age': 28, 'Email_id':'nj1234@gmail.com', 'Gender':'Male' }, 'user2':{'Name':'Abhijit' , 'Age': 25, 'Email_id':'abhj14@gmail.com', 'Gender':'Male' }}\n",
    "#### In this example, nested_dict is a dictionary that contains two keys, user1 and user2. their respective value that contains info about users"
   ]
  },
  {
   "cell_type": "code",
   "execution_count": null,
   "id": "c815773d-8248-4d3f-a7b3-cf7d12beb76d",
   "metadata": {},
   "outputs": [],
   "source": []
  },
  {
   "cell_type": "markdown",
   "id": "ff3bdc1b-5f5a-45a3-b797-cbfee4a54b6b",
   "metadata": {},
   "source": [
    "# Q7. Using setdefault() method, create key named topics in the given dictionary and also add the value of the key as this list ['Python', 'Machine Learning’, 'Deep Learning']    \n",
    "# dict1 = {'language' : 'Python', 'course': 'Data Science Masters'}\n",
    "\n",
    "#### dict1 = {'language' : 'Python', 'course': 'Data Science Masters'}\n",
    "#### dict1.setdefault('topics',\" ['Python', 'Machine Learning', 'Deep Learning'] \")\n",
    "#### print(dict1)\n",
    "#### output: {'language': 'Python', 'course': 'Data Science Masters', 'topics': \"['Python', 'Machine Learning', 'Deep Learning']\"}"
   ]
  },
  {
   "cell_type": "code",
   "execution_count": null,
   "id": "3224a58f-2f4c-4dfb-b7e5-eeca9c38fed7",
   "metadata": {},
   "outputs": [],
   "source": []
  },
  {
   "cell_type": "markdown",
   "id": "d8b1d7ec-2c98-42c4-892b-8afcfd7739c5",
   "metadata": {},
   "source": [
    "# Q8. What are the three view objects in dictionaries? Use the three in-built methods in python to display these three view objects for the given dictionary. \n",
    "# dict1 = {'Sport': 'Cricket' , 'Teams': ['India', 'Australia', 'England', 'South Africa', 'Sri Lanka', 'New Zealand']}\n",
    "\n",
    "#### In Python, dictionaries have three view objects: keys view, values view, and items view.\n",
    "\n",
    "#### Here's an example of how to use the in-built methods .keys(), .values(), and .items() to display these three view objects for the dictionary dict1:\n",
    "#### dict1 = {'Sport': 'Cricket' , 'Teams': ['India', 'Australia', 'England', 'South Africa', 'Sri Lanka', 'New Zealand']}\n",
    "#### print('keys view :', dict1.keys())\n",
    "#### output : Keys view: dict_keys(['Sport', 'Teams'])\n",
    "\n",
    "#### print('values view :', dict1.values())\n",
    "#### output : Values view: dict_values(['Cricket', ['India', 'Australia', 'England', 'South Africa', 'Sri Lanka', 'New Zealand']])\n",
    "\n",
    "#### print('items view :', dict1.items())\n",
    "#### output : Items view: dict_items([('Sport', 'Cricket'), ('Teams', ['India', 'Australia', 'England', 'South Africa', 'Sri Lanka', 'New Zealand'])])"
   ]
  },
  {
   "cell_type": "code",
   "execution_count": null,
   "id": "fd7c622e-7ff8-4bc2-935b-b9a5730f292a",
   "metadata": {},
   "outputs": [],
   "source": []
  }
 ],
 "metadata": {
  "kernelspec": {
   "display_name": "Python 3 (ipykernel)",
   "language": "python",
   "name": "python3"
  },
  "language_info": {
   "codemirror_mode": {
    "name": "ipython",
    "version": 3
   },
   "file_extension": ".py",
   "mimetype": "text/x-python",
   "name": "python",
   "nbconvert_exporter": "python",
   "pygments_lexer": "ipython3",
   "version": "3.10.8"
  }
 },
 "nbformat": 4,
 "nbformat_minor": 5
}
